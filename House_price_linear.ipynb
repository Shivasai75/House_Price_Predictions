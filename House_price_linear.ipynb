{
 "cells": [
  {
   "cell_type": "code",
   "execution_count": 1,
   "metadata": {},
   "outputs": [
    {
     "data": {
      "text/html": [
       "<div>\n",
       "<style scoped>\n",
       "    .dataframe tbody tr th:only-of-type {\n",
       "        vertical-align: middle;\n",
       "    }\n",
       "\n",
       "    .dataframe tbody tr th {\n",
       "        vertical-align: top;\n",
       "    }\n",
       "\n",
       "    .dataframe thead th {\n",
       "        text-align: right;\n",
       "    }\n",
       "</style>\n",
       "<table border=\"1\" class=\"dataframe\">\n",
       "  <thead>\n",
       "    <tr style=\"text-align: right;\">\n",
       "      <th></th>\n",
       "      <th>Id</th>\n",
       "      <th>MSSubClass</th>\n",
       "      <th>MSZoning</th>\n",
       "      <th>LotFrontage</th>\n",
       "      <th>LotArea</th>\n",
       "      <th>Street</th>\n",
       "      <th>Alley</th>\n",
       "      <th>LotShape</th>\n",
       "      <th>LandContour</th>\n",
       "      <th>Utilities</th>\n",
       "      <th>...</th>\n",
       "      <th>PoolArea</th>\n",
       "      <th>PoolQC</th>\n",
       "      <th>Fence</th>\n",
       "      <th>MiscFeature</th>\n",
       "      <th>MiscVal</th>\n",
       "      <th>MoSold</th>\n",
       "      <th>YrSold</th>\n",
       "      <th>SaleType</th>\n",
       "      <th>SaleCondition</th>\n",
       "      <th>SalePrice</th>\n",
       "    </tr>\n",
       "  </thead>\n",
       "  <tbody>\n",
       "    <tr>\n",
       "      <th>0</th>\n",
       "      <td>1</td>\n",
       "      <td>60</td>\n",
       "      <td>RL</td>\n",
       "      <td>65.0</td>\n",
       "      <td>8450</td>\n",
       "      <td>Pave</td>\n",
       "      <td>NaN</td>\n",
       "      <td>Reg</td>\n",
       "      <td>Lvl</td>\n",
       "      <td>AllPub</td>\n",
       "      <td>...</td>\n",
       "      <td>0</td>\n",
       "      <td>NaN</td>\n",
       "      <td>NaN</td>\n",
       "      <td>NaN</td>\n",
       "      <td>0</td>\n",
       "      <td>2</td>\n",
       "      <td>2008</td>\n",
       "      <td>WD</td>\n",
       "      <td>Normal</td>\n",
       "      <td>208500</td>\n",
       "    </tr>\n",
       "    <tr>\n",
       "      <th>1</th>\n",
       "      <td>2</td>\n",
       "      <td>20</td>\n",
       "      <td>RL</td>\n",
       "      <td>80.0</td>\n",
       "      <td>9600</td>\n",
       "      <td>Pave</td>\n",
       "      <td>NaN</td>\n",
       "      <td>Reg</td>\n",
       "      <td>Lvl</td>\n",
       "      <td>AllPub</td>\n",
       "      <td>...</td>\n",
       "      <td>0</td>\n",
       "      <td>NaN</td>\n",
       "      <td>NaN</td>\n",
       "      <td>NaN</td>\n",
       "      <td>0</td>\n",
       "      <td>5</td>\n",
       "      <td>2007</td>\n",
       "      <td>WD</td>\n",
       "      <td>Normal</td>\n",
       "      <td>181500</td>\n",
       "    </tr>\n",
       "    <tr>\n",
       "      <th>2</th>\n",
       "      <td>3</td>\n",
       "      <td>60</td>\n",
       "      <td>RL</td>\n",
       "      <td>68.0</td>\n",
       "      <td>11250</td>\n",
       "      <td>Pave</td>\n",
       "      <td>NaN</td>\n",
       "      <td>IR1</td>\n",
       "      <td>Lvl</td>\n",
       "      <td>AllPub</td>\n",
       "      <td>...</td>\n",
       "      <td>0</td>\n",
       "      <td>NaN</td>\n",
       "      <td>NaN</td>\n",
       "      <td>NaN</td>\n",
       "      <td>0</td>\n",
       "      <td>9</td>\n",
       "      <td>2008</td>\n",
       "      <td>WD</td>\n",
       "      <td>Normal</td>\n",
       "      <td>223500</td>\n",
       "    </tr>\n",
       "    <tr>\n",
       "      <th>3</th>\n",
       "      <td>4</td>\n",
       "      <td>70</td>\n",
       "      <td>RL</td>\n",
       "      <td>60.0</td>\n",
       "      <td>9550</td>\n",
       "      <td>Pave</td>\n",
       "      <td>NaN</td>\n",
       "      <td>IR1</td>\n",
       "      <td>Lvl</td>\n",
       "      <td>AllPub</td>\n",
       "      <td>...</td>\n",
       "      <td>0</td>\n",
       "      <td>NaN</td>\n",
       "      <td>NaN</td>\n",
       "      <td>NaN</td>\n",
       "      <td>0</td>\n",
       "      <td>2</td>\n",
       "      <td>2006</td>\n",
       "      <td>WD</td>\n",
       "      <td>Abnorml</td>\n",
       "      <td>140000</td>\n",
       "    </tr>\n",
       "    <tr>\n",
       "      <th>4</th>\n",
       "      <td>5</td>\n",
       "      <td>60</td>\n",
       "      <td>RL</td>\n",
       "      <td>84.0</td>\n",
       "      <td>14260</td>\n",
       "      <td>Pave</td>\n",
       "      <td>NaN</td>\n",
       "      <td>IR1</td>\n",
       "      <td>Lvl</td>\n",
       "      <td>AllPub</td>\n",
       "      <td>...</td>\n",
       "      <td>0</td>\n",
       "      <td>NaN</td>\n",
       "      <td>NaN</td>\n",
       "      <td>NaN</td>\n",
       "      <td>0</td>\n",
       "      <td>12</td>\n",
       "      <td>2008</td>\n",
       "      <td>WD</td>\n",
       "      <td>Normal</td>\n",
       "      <td>250000</td>\n",
       "    </tr>\n",
       "    <tr>\n",
       "      <th>...</th>\n",
       "      <td>...</td>\n",
       "      <td>...</td>\n",
       "      <td>...</td>\n",
       "      <td>...</td>\n",
       "      <td>...</td>\n",
       "      <td>...</td>\n",
       "      <td>...</td>\n",
       "      <td>...</td>\n",
       "      <td>...</td>\n",
       "      <td>...</td>\n",
       "      <td>...</td>\n",
       "      <td>...</td>\n",
       "      <td>...</td>\n",
       "      <td>...</td>\n",
       "      <td>...</td>\n",
       "      <td>...</td>\n",
       "      <td>...</td>\n",
       "      <td>...</td>\n",
       "      <td>...</td>\n",
       "      <td>...</td>\n",
       "      <td>...</td>\n",
       "    </tr>\n",
       "    <tr>\n",
       "      <th>1455</th>\n",
       "      <td>1456</td>\n",
       "      <td>60</td>\n",
       "      <td>RL</td>\n",
       "      <td>62.0</td>\n",
       "      <td>7917</td>\n",
       "      <td>Pave</td>\n",
       "      <td>NaN</td>\n",
       "      <td>Reg</td>\n",
       "      <td>Lvl</td>\n",
       "      <td>AllPub</td>\n",
       "      <td>...</td>\n",
       "      <td>0</td>\n",
       "      <td>NaN</td>\n",
       "      <td>NaN</td>\n",
       "      <td>NaN</td>\n",
       "      <td>0</td>\n",
       "      <td>8</td>\n",
       "      <td>2007</td>\n",
       "      <td>WD</td>\n",
       "      <td>Normal</td>\n",
       "      <td>175000</td>\n",
       "    </tr>\n",
       "    <tr>\n",
       "      <th>1456</th>\n",
       "      <td>1457</td>\n",
       "      <td>20</td>\n",
       "      <td>RL</td>\n",
       "      <td>85.0</td>\n",
       "      <td>13175</td>\n",
       "      <td>Pave</td>\n",
       "      <td>NaN</td>\n",
       "      <td>Reg</td>\n",
       "      <td>Lvl</td>\n",
       "      <td>AllPub</td>\n",
       "      <td>...</td>\n",
       "      <td>0</td>\n",
       "      <td>NaN</td>\n",
       "      <td>MnPrv</td>\n",
       "      <td>NaN</td>\n",
       "      <td>0</td>\n",
       "      <td>2</td>\n",
       "      <td>2010</td>\n",
       "      <td>WD</td>\n",
       "      <td>Normal</td>\n",
       "      <td>210000</td>\n",
       "    </tr>\n",
       "    <tr>\n",
       "      <th>1457</th>\n",
       "      <td>1458</td>\n",
       "      <td>70</td>\n",
       "      <td>RL</td>\n",
       "      <td>66.0</td>\n",
       "      <td>9042</td>\n",
       "      <td>Pave</td>\n",
       "      <td>NaN</td>\n",
       "      <td>Reg</td>\n",
       "      <td>Lvl</td>\n",
       "      <td>AllPub</td>\n",
       "      <td>...</td>\n",
       "      <td>0</td>\n",
       "      <td>NaN</td>\n",
       "      <td>GdPrv</td>\n",
       "      <td>Shed</td>\n",
       "      <td>2500</td>\n",
       "      <td>5</td>\n",
       "      <td>2010</td>\n",
       "      <td>WD</td>\n",
       "      <td>Normal</td>\n",
       "      <td>266500</td>\n",
       "    </tr>\n",
       "    <tr>\n",
       "      <th>1458</th>\n",
       "      <td>1459</td>\n",
       "      <td>20</td>\n",
       "      <td>RL</td>\n",
       "      <td>68.0</td>\n",
       "      <td>9717</td>\n",
       "      <td>Pave</td>\n",
       "      <td>NaN</td>\n",
       "      <td>Reg</td>\n",
       "      <td>Lvl</td>\n",
       "      <td>AllPub</td>\n",
       "      <td>...</td>\n",
       "      <td>0</td>\n",
       "      <td>NaN</td>\n",
       "      <td>NaN</td>\n",
       "      <td>NaN</td>\n",
       "      <td>0</td>\n",
       "      <td>4</td>\n",
       "      <td>2010</td>\n",
       "      <td>WD</td>\n",
       "      <td>Normal</td>\n",
       "      <td>142125</td>\n",
       "    </tr>\n",
       "    <tr>\n",
       "      <th>1459</th>\n",
       "      <td>1460</td>\n",
       "      <td>20</td>\n",
       "      <td>RL</td>\n",
       "      <td>75.0</td>\n",
       "      <td>9937</td>\n",
       "      <td>Pave</td>\n",
       "      <td>NaN</td>\n",
       "      <td>Reg</td>\n",
       "      <td>Lvl</td>\n",
       "      <td>AllPub</td>\n",
       "      <td>...</td>\n",
       "      <td>0</td>\n",
       "      <td>NaN</td>\n",
       "      <td>NaN</td>\n",
       "      <td>NaN</td>\n",
       "      <td>0</td>\n",
       "      <td>6</td>\n",
       "      <td>2008</td>\n",
       "      <td>WD</td>\n",
       "      <td>Normal</td>\n",
       "      <td>147500</td>\n",
       "    </tr>\n",
       "  </tbody>\n",
       "</table>\n",
       "<p>1460 rows × 81 columns</p>\n",
       "</div>"
      ],
      "text/plain": [
       "        Id  MSSubClass MSZoning  LotFrontage  LotArea Street Alley LotShape  \\\n",
       "0        1          60       RL         65.0     8450   Pave   NaN      Reg   \n",
       "1        2          20       RL         80.0     9600   Pave   NaN      Reg   \n",
       "2        3          60       RL         68.0    11250   Pave   NaN      IR1   \n",
       "3        4          70       RL         60.0     9550   Pave   NaN      IR1   \n",
       "4        5          60       RL         84.0    14260   Pave   NaN      IR1   \n",
       "...    ...         ...      ...          ...      ...    ...   ...      ...   \n",
       "1455  1456          60       RL         62.0     7917   Pave   NaN      Reg   \n",
       "1456  1457          20       RL         85.0    13175   Pave   NaN      Reg   \n",
       "1457  1458          70       RL         66.0     9042   Pave   NaN      Reg   \n",
       "1458  1459          20       RL         68.0     9717   Pave   NaN      Reg   \n",
       "1459  1460          20       RL         75.0     9937   Pave   NaN      Reg   \n",
       "\n",
       "     LandContour Utilities  ... PoolArea PoolQC  Fence MiscFeature MiscVal  \\\n",
       "0            Lvl    AllPub  ...        0    NaN    NaN         NaN       0   \n",
       "1            Lvl    AllPub  ...        0    NaN    NaN         NaN       0   \n",
       "2            Lvl    AllPub  ...        0    NaN    NaN         NaN       0   \n",
       "3            Lvl    AllPub  ...        0    NaN    NaN         NaN       0   \n",
       "4            Lvl    AllPub  ...        0    NaN    NaN         NaN       0   \n",
       "...          ...       ...  ...      ...    ...    ...         ...     ...   \n",
       "1455         Lvl    AllPub  ...        0    NaN    NaN         NaN       0   \n",
       "1456         Lvl    AllPub  ...        0    NaN  MnPrv         NaN       0   \n",
       "1457         Lvl    AllPub  ...        0    NaN  GdPrv        Shed    2500   \n",
       "1458         Lvl    AllPub  ...        0    NaN    NaN         NaN       0   \n",
       "1459         Lvl    AllPub  ...        0    NaN    NaN         NaN       0   \n",
       "\n",
       "     MoSold YrSold  SaleType  SaleCondition  SalePrice  \n",
       "0         2   2008        WD         Normal     208500  \n",
       "1         5   2007        WD         Normal     181500  \n",
       "2         9   2008        WD         Normal     223500  \n",
       "3         2   2006        WD        Abnorml     140000  \n",
       "4        12   2008        WD         Normal     250000  \n",
       "...     ...    ...       ...            ...        ...  \n",
       "1455      8   2007        WD         Normal     175000  \n",
       "1456      2   2010        WD         Normal     210000  \n",
       "1457      5   2010        WD         Normal     266500  \n",
       "1458      4   2010        WD         Normal     142125  \n",
       "1459      6   2008        WD         Normal     147500  \n",
       "\n",
       "[1460 rows x 81 columns]"
      ]
     },
     "execution_count": 1,
     "metadata": {},
     "output_type": "execute_result"
    }
   ],
   "source": [
    "import pandas as pd\n",
    "import numpy as np\n",
    "import warnings\n",
    "import seaborn as sns\n",
    "\n",
    "warnings.filterwarnings('ignore')\n",
    "\n",
    "house_price_df = pd.read_csv('house_price_data.csv')\n",
    "house_price_df"
   ]
  },
  {
   "cell_type": "code",
   "execution_count": 2,
   "metadata": {},
   "outputs": [
    {
     "data": {
      "text/plain": [
       "<matplotlib.axes._subplots.AxesSubplot at 0x23adec940c8>"
      ]
     },
     "execution_count": 2,
     "metadata": {},
     "output_type": "execute_result"
    },
    {
     "data": {
      "image/png": "[encoded data removed]",
      "text/plain": [
       "<Figure size 432x288 with 1 Axes>"
      ]
     },
     "metadata": {
      "needs_background": "light"
     },
     "output_type": "display_data"
    }
   ],
   "source": [
    "sns.heatmap(house_price_df.isnull(), yticklabels=False, cbar=False)"
   ]
  },
  {
   "cell_type": "code",
   "execution_count": 3,
   "metadata": {},
   "outputs": [
    {
     "data": {
      "text/plain": [
       "0       208500\n",
       "1       181500\n",
       "2       223500\n",
       "3       140000\n",
       "4       250000\n",
       "         ...  \n",
       "1455    175000\n",
       "1456    210000\n",
       "1457    266500\n",
       "1458    142125\n",
       "1459    147500\n",
       "Name: SalePrice, Length: 1460, dtype: int64"
      ]
     },
     "execution_count": 3,
     "metadata": {},
     "output_type": "execute_result"
    }
   ],
   "source": [
    "y = house_price_df['SalePrice']\n",
    "y"
   ]
  },
  {
   "cell_type": "code",
   "execution_count": 4,
   "metadata": {},
   "outputs": [],
   "source": [
    "house_price_df.drop(columns='SalePrice', inplace=True)"
   ]
  },
  {
   "cell_type": "code",
   "execution_count": 5,
   "metadata": {},
   "outputs": [
    {
     "data": {
      "text/html": [
       "<div>\n",
       "<style scoped>\n",
       "    .dataframe tbody tr th:only-of-type {\n",
       "        vertical-align: middle;\n",
       "    }\n",
       "\n",
       "    .dataframe tbody tr th {\n",
       "        vertical-align: top;\n",
       "    }\n",
       "\n",
       "    .dataframe thead th {\n",
       "        text-align: right;\n",
       "    }\n",
       "</style>\n",
       "<table border=\"1\" class=\"dataframe\">\n",
       "  <thead>\n",
       "    <tr style=\"text-align: right;\">\n",
       "      <th></th>\n",
       "      <th>column_name</th>\n",
       "      <th>na_count</th>\n",
       "      <th>na_percentage</th>\n",
       "    </tr>\n",
       "  </thead>\n",
       "  <tbody>\n",
       "    <tr>\n",
       "      <th>PoolQC</th>\n",
       "      <td>PoolQC</td>\n",
       "      <td>1453</td>\n",
       "      <td>99.520548</td>\n",
       "    </tr>\n",
       "    <tr>\n",
       "      <th>MiscFeature</th>\n",
       "      <td>MiscFeature</td>\n",
       "      <td>1406</td>\n",
       "      <td>96.301370</td>\n",
       "    </tr>\n",
       "    <tr>\n",
       "      <th>Alley</th>\n",
       "      <td>Alley</td>\n",
       "      <td>1369</td>\n",
       "      <td>93.767123</td>\n",
       "    </tr>\n",
       "    <tr>\n",
       "      <th>Fence</th>\n",
       "      <td>Fence</td>\n",
       "      <td>1179</td>\n",
       "      <td>80.753425</td>\n",
       "    </tr>\n",
       "    <tr>\n",
       "      <th>FireplaceQu</th>\n",
       "      <td>FireplaceQu</td>\n",
       "      <td>690</td>\n",
       "      <td>47.260274</td>\n",
       "    </tr>\n",
       "    <tr>\n",
       "      <th>...</th>\n",
       "      <td>...</td>\n",
       "      <td>...</td>\n",
       "      <td>...</td>\n",
       "    </tr>\n",
       "    <tr>\n",
       "      <th>TotalBsmtSF</th>\n",
       "      <td>TotalBsmtSF</td>\n",
       "      <td>0</td>\n",
       "      <td>0.000000</td>\n",
       "    </tr>\n",
       "    <tr>\n",
       "      <th>Heating</th>\n",
       "      <td>Heating</td>\n",
       "      <td>0</td>\n",
       "      <td>0.000000</td>\n",
       "    </tr>\n",
       "    <tr>\n",
       "      <th>MSSubClass</th>\n",
       "      <td>MSSubClass</td>\n",
       "      <td>0</td>\n",
       "      <td>0.000000</td>\n",
       "    </tr>\n",
       "    <tr>\n",
       "      <th>CentralAir</th>\n",
       "      <td>CentralAir</td>\n",
       "      <td>0</td>\n",
       "      <td>0.000000</td>\n",
       "    </tr>\n",
       "    <tr>\n",
       "      <th>SaleCondition</th>\n",
       "      <td>SaleCondition</td>\n",
       "      <td>0</td>\n",
       "      <td>0.000000</td>\n",
       "    </tr>\n",
       "  </tbody>\n",
       "</table>\n",
       "<p>80 rows × 3 columns</p>\n",
       "</div>"
      ],
      "text/plain": [
       "                 column_name  na_count  na_percentage\n",
       "PoolQC                PoolQC      1453      99.520548\n",
       "MiscFeature      MiscFeature      1406      96.301370\n",
       "Alley                  Alley      1369      93.767123\n",
       "Fence                  Fence      1179      80.753425\n",
       "FireplaceQu      FireplaceQu       690      47.260274\n",
       "...                      ...       ...            ...\n",
       "TotalBsmtSF      TotalBsmtSF         0       0.000000\n",
       "Heating              Heating         0       0.000000\n",
       "MSSubClass        MSSubClass         0       0.000000\n",
       "CentralAir        CentralAir         0       0.000000\n",
       "SaleCondition  SaleCondition         0       0.000000\n",
       "\n",
       "[80 rows x 3 columns]"
      ]
     },
     "execution_count": 5,
     "metadata": {},
     "output_type": "execute_result"
    }
   ],
   "source": [
    "na_df = pd.DataFrame({'column_name': house_price_df.columns,\n",
    "                     'na_count': house_price_df.isnull().sum(),\n",
    "                     'na_percentage': house_price_df.isnull().sum()/len(house_price_df)*100})\n",
    "\n",
    "na_df.sort_values(by='na_percentage', ascending=False)"
   ]
  },
  {
   "cell_type": "code",
   "execution_count": 6,
   "metadata": {},
   "outputs": [
    {
     "data": {
      "text/plain": [
       "['Alley', 'PoolQC', 'Fence', 'MiscFeature', 'Id']"
      ]
     },
     "execution_count": 6,
     "metadata": {},
     "output_type": "execute_result"
    }
   ],
   "source": [
    "cols_to_drop= list(na_df[na_df['na_percentage']>50].index)\n",
    "\n",
    "for col in house_price_df.columns:\n",
    "    if len(house_price_df[col].unique())==1 or len(house_price_df[col].unique())==house_price_df.shape[0]:\n",
    "        cols_to_drop.append(col)\n",
    "        \n",
    "cols_to_drop"
   ]
  },
  {
   "cell_type": "code",
   "execution_count": 7,
   "metadata": {},
   "outputs": [],
   "source": [
    "house_price_df.drop(columns=cols_to_drop, inplace=True)"
   ]
  },
  {
   "cell_type": "code",
   "execution_count": 8,
   "metadata": {},
   "outputs": [],
   "source": [
    "from sklearn.model_selection import train_test_split\n",
    "\n",
    "X_train, X_test, y_train, y_test = train_test_split(house_price_df,y, test_size=0.2, random_state=42)\n"
   ]
  },
  {
   "cell_type": "code",
   "execution_count": 9,
   "metadata": {},
   "outputs": [],
   "source": [
    "#num_cals = house_price_df.select_dtypes(include = ['float64', 'int64'])\n",
    "#cat_cals = house_price_df.select_dtypes(include = ['O'])"
   ]
  },
  {
   "cell_type": "code",
   "execution_count": 10,
   "metadata": {},
   "outputs": [],
   "source": [
    "num_col = [col for col in house_price_df.columns if house_price_df[col].dtype=='int64' or house_price_df[col].dtype=='float64']\n",
    "cat_col= [col for col in house_price_df.columns if house_price_df[col].dtype=='object']"
   ]
  },
  {
   "cell_type": "code",
   "execution_count": 11,
   "metadata": {},
   "outputs": [],
   "source": [
    "for col in num_col:\n",
    "    X_train[col]=X_train[col].fillna(X_train[col].mean())\n",
    "    X_test[col]=X_test[col].fillna(X_train[col].mean())\n"
   ]
  },
  {
   "cell_type": "code",
   "execution_count": 12,
   "metadata": {},
   "outputs": [],
   "source": [
    "for col in cat_col:\n",
    "    X_train[col]=X_train[col].fillna(X_train[col].mode()[0])\n",
    "    X_test[col]=X_test[col].fillna(X_train[col].mode()[0])"
   ]
  },
  {
   "cell_type": "code",
   "execution_count": 13,
   "metadata": {},
   "outputs": [],
   "source": [
    "from sklearn.preprocessing import MinMaxScaler,StandardScaler,LabelEncoder\n",
    "minmaxscaler = StandardScaler()"
   ]
  },
  {
   "cell_type": "code",
   "execution_count": 14,
   "metadata": {},
   "outputs": [],
   "source": [
    "for col in num_col:\n",
    "    X_train[col]=minmaxscaler.fit_transform(np.array(X_train[col]).reshape(-1,1))\n",
    "    X_test[col]=minmaxscaler.transform(np.array(X_test[col]).reshape(-1,1))\n"
   ]
  },
  {
   "cell_type": "code",
   "execution_count": 15,
   "metadata": {},
   "outputs": [],
   "source": [
    "from sklearn.preprocessing import OneHotEncoder\n",
    "\n",
    "oe_train_df=pd.get_dummies(X_train[cat_col])\n",
    "oe_test_df =pd.get_dummies(X_test[cat_col])"
   ]
  },
  {
   "cell_type": "code",
   "execution_count": 16,
   "metadata": {},
   "outputs": [],
   "source": [
    "X_train_oe, X_test_oe = oe_train_df.align(oe_test_df,axis=1,join='inner',fill_value=0)"
   ]
  },
  {
   "cell_type": "code",
   "execution_count": 17,
   "metadata": {},
   "outputs": [],
   "source": [
    "X_train_final = pd.concat([X_train_oe, X_train[num_col]], axis=1)\n",
    "X_test_final = pd.concat([X_test_oe, X_test[num_col]], axis=1)"
   ]
  },
  {
   "cell_type": "markdown",
   "metadata": {},
   "source": [
    "## Linear Model"
   ]
  },
  {
   "cell_type": "code",
   "execution_count": 18,
   "metadata": {},
   "outputs": [],
   "source": [
    "from sklearn.linear_model import LinearRegression\n",
    "\n",
    "linear = LinearRegression()\n",
    "linear.fit(X_train_final,y_train)\n",
    "\n",
    "\n",
    "predictions = linear.predict(X_test_final)"
   ]
  },
  {
   "cell_type": "code",
   "execution_count": 19,
   "metadata": {},
   "outputs": [
    {
     "data": {
      "text/plain": [
       "array([153856., 343872.,  98880., 184320., 338176.,  59520., 247296.,\n",
       "       154432.,  53248., 142080., 149312., 107264.,  63872., 229504.,\n",
       "       176640., 138112., 187712., 131968., 134208., 209664., 166272.,\n",
       "       202176., 179136., 129920., 201024., 139072., 198976., 103680.,\n",
       "       172096., 207360., 165696., 272000., 243712., 119040., 245760.,\n",
       "       143232., 140032., 204096., 319040., 111296., 134784., 225664.,\n",
       "        95104., 348800., 130688., 140992., 102784., 137344., 402304.,\n",
       "       140160., 120704., 259904.,  90432., 281152., 162688., 228096.,\n",
       "       208704., 179136., 128768., 102016.,  73856., 166912., 318784.,\n",
       "       260480., 312128., 193600.,  94592., 291712., 121984., 177088.,\n",
       "       126464., 121984., 107392.,  61312., 437376., 179968., 303360.,\n",
       "       379648., 150080., 121472., 116352.,  23360., 125184., 104960.,\n",
       "       163712., 156160., 248960., 205504., 132544., 196608., 133056.,\n",
       "       156096., 183424., 262592., 121152., 189248., 207168., 151936.,\n",
       "       202304., 275392., 125696., 209088., 260480., 164224., 190848.,\n",
       "       183296., 146816., 299456., 153600., 206592.,  82048., 142720.,\n",
       "       153088., 141376., 201216., 127680.,  91008., 122368., 116736.,\n",
       "       274880.,  99392., 133248., 186432., 173312., 192384., 128640.,\n",
       "       230400., 118272., 148480., 193280., 187584., 320064., 195840.,\n",
       "       120576.,  41984., 371840., 341120., 144000., 231808., 582464.,\n",
       "       349376., 130304., 178944., 160768., 123520., 119680., 229632.,\n",
       "       191232., 125568.,  46336., 145472., 118528., 268608., 181120.,\n",
       "        80256., 117504., 137984., 161152.,  88640., 140032., 218880.,\n",
       "       107392., 287616., 171584., 108800., 139008., 259840., 329024.,\n",
       "       428672., 221696., 377472.,  89856., 117312., 139136., 311488.,\n",
       "        96896., 121984., 215424., 130176., 159552., 201664., 102400.,\n",
       "       128896., 141696., 233472., 129280., 237952., 211776., 206784.,\n",
       "        75648., 119680., 102208., 154368., 149120., 203136., 212352.,\n",
       "       183936.,  70784., 198016., 126080., 285376., 217408., 125824.,\n",
       "       312896., 196480., 115840., 227200., 138944., 128640., 103296.,\n",
       "       216320., 149248., 117120., 170432., 139264., 246976., 202432.,\n",
       "       128640., 151296., 111360., 129536., 214784., 193920.,  89216.,\n",
       "       231296., 145536.,  61696.,  91712., 160000.,  92928.,  96512.,\n",
       "       167744., 115008., 125312., 232704., 149248., 200256., 160000.,\n",
       "       243840., 109312., 112064., 251584., 234880., 469184., 210688.,\n",
       "       125568.,  47488., 171648., 143424., 111104., 166208., 165952.,\n",
       "       144128., 113600., 138880., 137472., 100608., 128640., 180224.,\n",
       "       239104., 289984., 187776., 133504., 235392., 338560., 230400.,\n",
       "       162176., 131136., 109568., 189568., 398080., 244160., 227072.,\n",
       "        70656., 102848., 130304., 132160., 304128., 267584., 133248.,\n",
       "       201792., 104448., 200192., 107008., 295552., 171776., 205568.,\n",
       "       126592., 302848., 189696.,  65536., 121344.])"
      ]
     },
     "execution_count": 19,
     "metadata": {},
     "output_type": "execute_result"
    }
   ],
   "source": [
    "predictions"
   ]
  },
  {
   "cell_type": "code",
   "execution_count": 20,
   "metadata": {},
   "outputs": [
    {
     "data": {
      "text/plain": [
       "0.8748803131636336"
      ]
     },
     "execution_count": 20,
     "metadata": {},
     "output_type": "execute_result"
    }
   ],
   "source": [
    "from sklearn.metrics import r2_score, mean_squared_error\n",
    "\n",
    "r2_score(y_test, predictions)"
   ]
  },
  {
   "cell_type": "code",
   "execution_count": 21,
   "metadata": {},
   "outputs": [
    {
     "data": {
      "text/plain": [
       "959708812.9760274"
      ]
     },
     "execution_count": 21,
     "metadata": {},
     "output_type": "execute_result"
    }
   ],
   "source": [
    "mean_squared_error(y_test, predictions)"
   ]
  },
  {
   "cell_type": "code",
   "execution_count": null,
   "metadata": {},
   "outputs": [],
   "source": []
  },
  {
   "cell_type": "markdown",
   "metadata": {},
   "source": [
    "## Lasso And Ridge"
   ]
  },
  {
   "cell_type": "code",
   "execution_count": 22,
   "metadata": {},
   "outputs": [
    {
     "data": {
      "text/html": [
       "<div>\n",
       "<style scoped>\n",
       "    .dataframe tbody tr th:only-of-type {\n",
       "        vertical-align: middle;\n",
       "    }\n",
       "\n",
       "    .dataframe tbody tr th {\n",
       "        vertical-align: top;\n",
       "    }\n",
       "\n",
       "    .dataframe thead th {\n",
       "        text-align: right;\n",
       "    }\n",
       "</style>\n",
       "<table border=\"1\" class=\"dataframe\">\n",
       "  <thead>\n",
       "    <tr style=\"text-align: right;\">\n",
       "      <th></th>\n",
       "      <th>Feature</th>\n",
       "      <th>Alpha =1.000000</th>\n",
       "      <th>Alpha =0.500000</th>\n",
       "      <th>Alpha =-1.200000</th>\n",
       "    </tr>\n",
       "  </thead>\n",
       "  <tbody>\n",
       "    <tr>\n",
       "      <th>0</th>\n",
       "      <td>MSZoning_C (all)</td>\n",
       "      <td>-2.629391e+04</td>\n",
       "      <td>-2.679671e+04</td>\n",
       "      <td>-55163.766753</td>\n",
       "    </tr>\n",
       "    <tr>\n",
       "      <th>1</th>\n",
       "      <td>MSZoning_FV</td>\n",
       "      <td>1.017959e+04</td>\n",
       "      <td>1.016104e+04</td>\n",
       "      <td>-16202.997607</td>\n",
       "    </tr>\n",
       "    <tr>\n",
       "      <th>2</th>\n",
       "      <td>MSZoning_RH</td>\n",
       "      <td>-3.801695e+03</td>\n",
       "      <td>-4.027101e+03</td>\n",
       "      <td>-30984.859119</td>\n",
       "    </tr>\n",
       "    <tr>\n",
       "      <th>3</th>\n",
       "      <td>MSZoning_RL</td>\n",
       "      <td>8.767485e+02</td>\n",
       "      <td>7.810463e+02</td>\n",
       "      <td>-25827.921825</td>\n",
       "    </tr>\n",
       "    <tr>\n",
       "      <th>4</th>\n",
       "      <td>MSZoning_RM</td>\n",
       "      <td>-0.000000e+00</td>\n",
       "      <td>-0.000000e+00</td>\n",
       "      <td>-26490.480053</td>\n",
       "    </tr>\n",
       "    <tr>\n",
       "      <th>5</th>\n",
       "      <td>Street_Grvl</td>\n",
       "      <td>-1.757958e+04</td>\n",
       "      <td>-1.788798e+04</td>\n",
       "      <td>-720561.343551</td>\n",
       "    </tr>\n",
       "    <tr>\n",
       "      <th>6</th>\n",
       "      <td>Street_Pave</td>\n",
       "      <td>1.874522e-09</td>\n",
       "      <td>1.854444e-09</td>\n",
       "      <td>-703208.247423</td>\n",
       "    </tr>\n",
       "    <tr>\n",
       "      <th>7</th>\n",
       "      <td>LotShape_IR1</td>\n",
       "      <td>-1.074381e+03</td>\n",
       "      <td>-1.069410e+03</td>\n",
       "      <td>-12831.872615</td>\n",
       "    </tr>\n",
       "    <tr>\n",
       "      <th>8</th>\n",
       "      <td>LotShape_IR2</td>\n",
       "      <td>7.483582e+03</td>\n",
       "      <td>7.500774e+03</td>\n",
       "      <td>-4285.257651</td>\n",
       "    </tr>\n",
       "    <tr>\n",
       "      <th>9</th>\n",
       "      <td>LotShape_IR3</td>\n",
       "      <td>-1.601741e+04</td>\n",
       "      <td>-1.596202e+04</td>\n",
       "      <td>-27206.415722</td>\n",
       "    </tr>\n",
       "    <tr>\n",
       "      <th>10</th>\n",
       "      <td>LotShape_Reg</td>\n",
       "      <td>2.840270e-01</td>\n",
       "      <td>3.894425e-02</td>\n",
       "      <td>-11819.196657</td>\n",
       "    </tr>\n",
       "    <tr>\n",
       "      <th>11</th>\n",
       "      <td>LandContour_Bnk</td>\n",
       "      <td>-1.465066e+04</td>\n",
       "      <td>-1.456672e+04</td>\n",
       "      <td>-57655.602361</td>\n",
       "    </tr>\n",
       "    <tr>\n",
       "      <th>12</th>\n",
       "      <td>LandContour_HLS</td>\n",
       "      <td>1.121294e+04</td>\n",
       "      <td>1.120145e+04</td>\n",
       "      <td>-32369.452626</td>\n",
       "    </tr>\n",
       "    <tr>\n",
       "      <th>13</th>\n",
       "      <td>LandContour_Low</td>\n",
       "      <td>-2.568353e+03</td>\n",
       "      <td>-2.721611e+03</td>\n",
       "      <td>-46363.489450</td>\n",
       "    </tr>\n",
       "    <tr>\n",
       "      <th>14</th>\n",
       "      <td>LandContour_Lvl</td>\n",
       "      <td>3.196490e+01</td>\n",
       "      <td>2.824091e+01</td>\n",
       "      <td>-43506.323734</td>\n",
       "    </tr>\n",
       "    <tr>\n",
       "      <th>15</th>\n",
       "      <td>Utilities_AllPub</td>\n",
       "      <td>4.787120e+04</td>\n",
       "      <td>4.894487e+04</td>\n",
       "      <td>52652.263287</td>\n",
       "    </tr>\n",
       "    <tr>\n",
       "      <th>16</th>\n",
       "      <td>LotConfig_Corner</td>\n",
       "      <td>2.106100e+03</td>\n",
       "      <td>2.125114e+03</td>\n",
       "      <td>-10492.210694</td>\n",
       "    </tr>\n",
       "    <tr>\n",
       "      <th>17</th>\n",
       "      <td>LotConfig_CulDSac</td>\n",
       "      <td>1.424979e+04</td>\n",
       "      <td>1.423623e+04</td>\n",
       "      <td>1506.822510</td>\n",
       "    </tr>\n",
       "    <tr>\n",
       "      <th>18</th>\n",
       "      <td>LotConfig_FR2</td>\n",
       "      <td>-7.989974e+03</td>\n",
       "      <td>-8.103512e+03</td>\n",
       "      <td>-21205.692074</td>\n",
       "    </tr>\n",
       "    <tr>\n",
       "      <th>19</th>\n",
       "      <td>LotConfig_FR3</td>\n",
       "      <td>-2.675139e+04</td>\n",
       "      <td>-2.727950e+04</td>\n",
       "      <td>-41578.193409</td>\n",
       "    </tr>\n",
       "    <tr>\n",
       "      <th>20</th>\n",
       "      <td>LotConfig_Inside</td>\n",
       "      <td>-0.000000e+00</td>\n",
       "      <td>0.000000e+00</td>\n",
       "      <td>-12667.880008</td>\n",
       "    </tr>\n",
       "    <tr>\n",
       "      <th>21</th>\n",
       "      <td>LandSlope_Gtl</td>\n",
       "      <td>-5.872785e+03</td>\n",
       "      <td>-5.638398e+03</td>\n",
       "      <td>-77936.566193</td>\n",
       "    </tr>\n",
       "    <tr>\n",
       "      <th>22</th>\n",
       "      <td>LandSlope_Mod</td>\n",
       "      <td>3.588397e+03</td>\n",
       "      <td>3.799088e+03</td>\n",
       "      <td>-68794.458437</td>\n",
       "    </tr>\n",
       "    <tr>\n",
       "      <th>23</th>\n",
       "      <td>LandSlope_Sev</td>\n",
       "      <td>-0.000000e+00</td>\n",
       "      <td>-0.000000e+00</td>\n",
       "      <td>-73663.734045</td>\n",
       "    </tr>\n",
       "    <tr>\n",
       "      <th>24</th>\n",
       "      <td>Neighborhood_Blmngtn</td>\n",
       "      <td>7.041599e+03</td>\n",
       "      <td>7.552877e+03</td>\n",
       "      <td>-30361.874186</td>\n",
       "    </tr>\n",
       "  </tbody>\n",
       "</table>\n",
       "</div>"
      ],
      "text/plain": [
       "                 Feature  Alpha =1.000000  Alpha =0.500000  Alpha =-1.200000\n",
       "0       MSZoning_C (all)    -2.629391e+04    -2.679671e+04     -55163.766753\n",
       "1            MSZoning_FV     1.017959e+04     1.016104e+04     -16202.997607\n",
       "2            MSZoning_RH    -3.801695e+03    -4.027101e+03     -30984.859119\n",
       "3            MSZoning_RL     8.767485e+02     7.810463e+02     -25827.921825\n",
       "4            MSZoning_RM    -0.000000e+00    -0.000000e+00     -26490.480053\n",
       "5            Street_Grvl    -1.757958e+04    -1.788798e+04    -720561.343551\n",
       "6            Street_Pave     1.874522e-09     1.854444e-09    -703208.247423\n",
       "7           LotShape_IR1    -1.074381e+03    -1.069410e+03     -12831.872615\n",
       "8           LotShape_IR2     7.483582e+03     7.500774e+03      -4285.257651\n",
       "9           LotShape_IR3    -1.601741e+04    -1.596202e+04     -27206.415722\n",
       "10          LotShape_Reg     2.840270e-01     3.894425e-02     -11819.196657\n",
       "11       LandContour_Bnk    -1.465066e+04    -1.456672e+04     -57655.602361\n",
       "12       LandContour_HLS     1.121294e+04     1.120145e+04     -32369.452626\n",
       "13       LandContour_Low    -2.568353e+03    -2.721611e+03     -46363.489450\n",
       "14       LandContour_Lvl     3.196490e+01     2.824091e+01     -43506.323734\n",
       "15      Utilities_AllPub     4.787120e+04     4.894487e+04      52652.263287\n",
       "16      LotConfig_Corner     2.106100e+03     2.125114e+03     -10492.210694\n",
       "17     LotConfig_CulDSac     1.424979e+04     1.423623e+04       1506.822510\n",
       "18         LotConfig_FR2    -7.989974e+03    -8.103512e+03     -21205.692074\n",
       "19         LotConfig_FR3    -2.675139e+04    -2.727950e+04     -41578.193409\n",
       "20      LotConfig_Inside    -0.000000e+00     0.000000e+00     -12667.880008\n",
       "21         LandSlope_Gtl    -5.872785e+03    -5.638398e+03     -77936.566193\n",
       "22         LandSlope_Mod     3.588397e+03     3.799088e+03     -68794.458437\n",
       "23         LandSlope_Sev    -0.000000e+00    -0.000000e+00     -73663.734045\n",
       "24  Neighborhood_Blmngtn     7.041599e+03     7.552877e+03     -30361.874186"
      ]
     },
     "execution_count": 22,
     "metadata": {},
     "output_type": "execute_result"
    }
   ],
   "source": [
    "from sklearn.linear_model import Lasso\n",
    "\n",
    "def lasso(alphas):\n",
    "    df =pd.DataFrame()\n",
    "    df['Feature']= X_train_final.columns\n",
    "    \n",
    "    for alpha in alphas:\n",
    "        lasso = Lasso(alpha=alpha)\n",
    "        lasso.fit(X_train_final,y_train)\n",
    "        col_name = 'Alpha =%f' % alpha\n",
    "        df[col_name]= lasso.coef_\n",
    "    return df\n",
    "\n",
    "lasso([1,0.5, -1.2]).head(25)"
   ]
  },
  {
   "cell_type": "code",
   "execution_count": 23,
   "metadata": {},
   "outputs": [
    {
     "data": {
      "text/plain": [
       "0.8664383561643836"
      ]
     },
     "execution_count": 23,
     "metadata": {},
     "output_type": "execute_result"
    }
   ],
   "source": [
    "from sklearn.linear_model import RidgeClassifier\n",
    "\n",
    "rid = RidgeClassifier()\n",
    "\n",
    "ridge = rid.fit(X_train_final, y_train)\n",
    "\n",
    "ridge.score(X_train_final, y_train)"
   ]
  },
  {
   "cell_type": "markdown",
   "metadata": {},
   "source": [
    "## Decision Tree"
   ]
  },
  {
   "cell_type": "code",
   "execution_count": 24,
   "metadata": {},
   "outputs": [
    {
     "data": {
      "text/plain": [
       "DecisionTreeRegressor(ccp_alpha=0.0, criterion='mse', max_depth=None,\n",
       "                      max_features=None, max_leaf_nodes=None,\n",
       "                      min_impurity_decrease=0.0, min_impurity_split=None,\n",
       "                      min_samples_leaf=1, min_samples_split=2,\n",
       "                      min_weight_fraction_leaf=0.0, presort='deprecated',\n",
       "                      random_state=None, splitter='best')"
      ]
     },
     "execution_count": 24,
     "metadata": {},
     "output_type": "execute_result"
    }
   ],
   "source": [
    "from sklearn.tree import DecisionTreeRegressor\n",
    "\n",
    "\n",
    "dtr = DecisionTreeRegressor()\n",
    "\n",
    "dtr.fit(X_train_final,y_train)"
   ]
  },
  {
   "cell_type": "code",
   "execution_count": 25,
   "metadata": {},
   "outputs": [
    {
     "data": {
      "text/plain": [
       "array([157900., 410000., 120000., 159000., 325000.,  86000., 205000.,\n",
       "       148500.,  86000., 112000., 189950., 106500.,  90000., 201000.,\n",
       "       179000., 147000., 195000., 135000., 113000., 208500., 104900.,\n",
       "       233230., 183200., 109900., 180500., 179200., 164990.,  90000.,\n",
       "       168000., 196000., 128000., 233000., 189000., 112500., 256300.,\n",
       "       128900., 104900., 155000., 275500., 124000., 109500., 263000.,\n",
       "       112500., 325624., 126500., 200000., 114500., 139000., 446261.,\n",
       "       128500., 106500., 193500., 116000., 423000., 140000., 216837.,\n",
       "       190000., 142500., 157000., 116000.,  90350., 181000., 361919.,\n",
       "       285000., 245350., 239000., 100000., 440000., 123500., 168500.,\n",
       "       112000., 139000.,  97000.,  88000., 501837., 179200., 290000.,\n",
       "       260000., 139000., 130000.,  83000., 100000., 126500.,  80000.,\n",
       "       182900., 138887., 270000., 234000., 131500., 200141., 124900.,\n",
       "       197500., 130000., 294000., 100000., 180000., 129900., 155000.,\n",
       "       227000., 192000., 157500., 176000., 383970., 116900., 228950.,\n",
       "       177000., 135000., 280000., 142500., 197500.,  61000., 119200.,\n",
       "       109000., 138887., 248000., 130000., 117000., 111250., 200000.,\n",
       "       274900., 184000., 149300., 174000., 159000., 208900., 123000.,\n",
       "       268000., 110000., 148000., 152000., 184900., 424870., 223500.,\n",
       "       193500.,  39300., 326000., 374000., 136500., 279500., 745000.,\n",
       "       440000., 123000., 179000., 190000., 165500., 106500., 214000.,\n",
       "       180500., 127000.,  58500., 130500., 180000., 223000., 125000.,\n",
       "        80000., 112000.,  80000., 132000., 128500., 135000., 212000.,\n",
       "       165500., 306000., 148000., 159500., 100000., 167500., 340000.,\n",
       "       325000., 215000., 320000.,  79000., 160000., 177000., 424870.,\n",
       "       149900., 117000., 176000., 117000., 168500., 149350.,  55000.,\n",
       "       125000., 161000., 228500., 155000., 278000., 154000., 202665.,\n",
       "        97000., 123000., 113000., 105000., 141000., 194700., 117000.,\n",
       "       220000., 106250., 202500., 128000., 289000., 234000., 173733.,\n",
       "       424870., 182000., 128500., 237000., 126500., 135000., 100000.,\n",
       "       235000., 139000.,  87000., 168500.,  82500., 306000., 171750.,\n",
       "       129000.,  80000., 112000., 144000., 215000., 170000., 110000.,\n",
       "       212000., 163000., 111250., 130500., 176500., 108000., 120000.,\n",
       "       183200., 100000., 164500., 229456., 139000., 194000., 144000.,\n",
       "       192000., 127500., 135000., 268000., 248000., 342643., 195000.,\n",
       "       154000., 161750., 156000., 134000., 100000., 162900., 163900.,\n",
       "       124900., 110000., 137000., 139950., 110000., 112000., 168500.,\n",
       "       228500., 147000., 165000., 116000., 215000., 248328., 207500.,\n",
       "       165000., 140000., 126500., 162000., 320000., 192000., 231500.,\n",
       "       116000., 102000., 149900., 130000., 395192., 256000., 190000.,\n",
       "       237000.,  86000., 182000., 120000., 306000., 210000., 231500.,\n",
       "       120000., 240000., 185000., 172500.,  97000.])"
      ]
     },
     "execution_count": 25,
     "metadata": {},
     "output_type": "execute_result"
    }
   ],
   "source": [
    "dtr.predict(X_test_final)"
   ]
  },
  {
   "cell_type": "code",
   "execution_count": 26,
   "metadata": {},
   "outputs": [
    {
     "data": {
      "text/plain": [
       "0.7462820731918873"
      ]
     },
     "execution_count": 26,
     "metadata": {},
     "output_type": "execute_result"
    }
   ],
   "source": [
    "dtr.score(X_test_final, y_test)"
   ]
  },
  {
   "cell_type": "code",
   "execution_count": 27,
   "metadata": {},
   "outputs": [
    {
     "name": "stdout",
     "output_type": "stream",
     "text": [
      "Training Accurecy:  1.0\n",
      "Test Accrecy: 0.7462820731918873\n"
     ]
    }
   ],
   "source": [
    "print('Training Accurecy: ', dtr.score(X_train_final,y_train))\n",
    "\n",
    "print('Test Accrecy:', dtr.score(X_test_final,y_test))"
   ]
  },
  {
   "cell_type": "code",
   "execution_count": 28,
   "metadata": {},
   "outputs": [],
   "source": [
    "# if the test accurecy is changing by running multiple times, it means your model is overfit.\n",
    "# by avoid this, you need to change default value of random state \n",
    "# i.e dtr = DecisionTreeRegressor(random_state = 'any value' ex: 42)"
   ]
  },
  {
   "cell_type": "markdown",
   "metadata": {},
   "source": [
    "## variance_inflation_factor"
   ]
  },
  {
   "cell_type": "code",
   "execution_count": 29,
   "metadata": {},
   "outputs": [
    {
     "data": {
      "text/html": [
       "<div>\n",
       "<style scoped>\n",
       "    .dataframe tbody tr th:only-of-type {\n",
       "        vertical-align: middle;\n",
       "    }\n",
       "\n",
       "    .dataframe tbody tr th {\n",
       "        vertical-align: top;\n",
       "    }\n",
       "\n",
       "    .dataframe thead th {\n",
       "        text-align: right;\n",
       "    }\n",
       "</style>\n",
       "<table border=\"1\" class=\"dataframe\">\n",
       "  <thead>\n",
       "    <tr style=\"text-align: right;\">\n",
       "      <th></th>\n",
       "      <th>VIF Factor</th>\n",
       "      <th>Features</th>\n",
       "    </tr>\n",
       "  </thead>\n",
       "  <tbody>\n",
       "    <tr>\n",
       "      <th>0</th>\n",
       "      <td>1.678579</td>\n",
       "      <td>MSSubClass</td>\n",
       "    </tr>\n",
       "    <tr>\n",
       "      <th>1</th>\n",
       "      <td>1.550509</td>\n",
       "      <td>LotFrontage</td>\n",
       "    </tr>\n",
       "    <tr>\n",
       "      <th>2</th>\n",
       "      <td>1.258606</td>\n",
       "      <td>LotArea</td>\n",
       "    </tr>\n",
       "    <tr>\n",
       "      <th>3</th>\n",
       "      <td>3.184199</td>\n",
       "      <td>OverallQual</td>\n",
       "    </tr>\n",
       "    <tr>\n",
       "      <th>4</th>\n",
       "      <td>1.586181</td>\n",
       "      <td>OverallCond</td>\n",
       "    </tr>\n",
       "    <tr>\n",
       "      <th>5</th>\n",
       "      <td>5.094617</td>\n",
       "      <td>YearBuilt</td>\n",
       "    </tr>\n",
       "    <tr>\n",
       "      <th>6</th>\n",
       "      <td>2.422516</td>\n",
       "      <td>YearRemodAdd</td>\n",
       "    </tr>\n",
       "    <tr>\n",
       "      <th>7</th>\n",
       "      <td>1.410436</td>\n",
       "      <td>MasVnrArea</td>\n",
       "    </tr>\n",
       "    <tr>\n",
       "      <th>8</th>\n",
       "      <td>inf</td>\n",
       "      <td>BsmtFinSF1</td>\n",
       "    </tr>\n",
       "    <tr>\n",
       "      <th>9</th>\n",
       "      <td>inf</td>\n",
       "      <td>BsmtFinSF2</td>\n",
       "    </tr>\n",
       "    <tr>\n",
       "      <th>10</th>\n",
       "      <td>inf</td>\n",
       "      <td>BsmtUnfSF</td>\n",
       "    </tr>\n",
       "    <tr>\n",
       "      <th>11</th>\n",
       "      <td>inf</td>\n",
       "      <td>TotalBsmtSF</td>\n",
       "    </tr>\n",
       "    <tr>\n",
       "      <th>12</th>\n",
       "      <td>inf</td>\n",
       "      <td>1stFlrSF</td>\n",
       "    </tr>\n",
       "    <tr>\n",
       "      <th>13</th>\n",
       "      <td>inf</td>\n",
       "      <td>2ndFlrSF</td>\n",
       "    </tr>\n",
       "    <tr>\n",
       "      <th>14</th>\n",
       "      <td>inf</td>\n",
       "      <td>LowQualFinSF</td>\n",
       "    </tr>\n",
       "    <tr>\n",
       "      <th>15</th>\n",
       "      <td>inf</td>\n",
       "      <td>GrLivArea</td>\n",
       "    </tr>\n",
       "    <tr>\n",
       "      <th>16</th>\n",
       "      <td>2.197736</td>\n",
       "      <td>BsmtFullBath</td>\n",
       "    </tr>\n",
       "    <tr>\n",
       "      <th>17</th>\n",
       "      <td>1.164117</td>\n",
       "      <td>BsmtHalfBath</td>\n",
       "    </tr>\n",
       "    <tr>\n",
       "      <th>18</th>\n",
       "      <td>2.951514</td>\n",
       "      <td>FullBath</td>\n",
       "    </tr>\n",
       "    <tr>\n",
       "      <th>19</th>\n",
       "      <td>2.110857</td>\n",
       "      <td>HalfBath</td>\n",
       "    </tr>\n",
       "    <tr>\n",
       "      <th>20</th>\n",
       "      <td>2.372205</td>\n",
       "      <td>BedroomAbvGr</td>\n",
       "    </tr>\n",
       "    <tr>\n",
       "      <th>21</th>\n",
       "      <td>1.658490</td>\n",
       "      <td>KitchenAbvGr</td>\n",
       "    </tr>\n",
       "    <tr>\n",
       "      <th>22</th>\n",
       "      <td>5.003023</td>\n",
       "      <td>TotRmsAbvGrd</td>\n",
       "    </tr>\n",
       "    <tr>\n",
       "      <th>23</th>\n",
       "      <td>1.579476</td>\n",
       "      <td>Fireplaces</td>\n",
       "    </tr>\n",
       "    <tr>\n",
       "      <th>24</th>\n",
       "      <td>3.261961</td>\n",
       "      <td>GarageYrBlt</td>\n",
       "    </tr>\n",
       "    <tr>\n",
       "      <th>25</th>\n",
       "      <td>5.578335</td>\n",
       "      <td>GarageCars</td>\n",
       "    </tr>\n",
       "    <tr>\n",
       "      <th>26</th>\n",
       "      <td>5.529931</td>\n",
       "      <td>GarageArea</td>\n",
       "    </tr>\n",
       "    <tr>\n",
       "      <th>27</th>\n",
       "      <td>1.239912</td>\n",
       "      <td>WoodDeckSF</td>\n",
       "    </tr>\n",
       "    <tr>\n",
       "      <th>28</th>\n",
       "      <td>1.232406</td>\n",
       "      <td>OpenPorchSF</td>\n",
       "    </tr>\n",
       "    <tr>\n",
       "      <th>29</th>\n",
       "      <td>1.300037</td>\n",
       "      <td>EnclosedPorch</td>\n",
       "    </tr>\n",
       "    <tr>\n",
       "      <th>30</th>\n",
       "      <td>1.029787</td>\n",
       "      <td>3SsnPorch</td>\n",
       "    </tr>\n",
       "    <tr>\n",
       "      <th>31</th>\n",
       "      <td>1.131071</td>\n",
       "      <td>ScreenPorch</td>\n",
       "    </tr>\n",
       "    <tr>\n",
       "      <th>32</th>\n",
       "      <td>1.153790</td>\n",
       "      <td>PoolArea</td>\n",
       "    </tr>\n",
       "    <tr>\n",
       "      <th>33</th>\n",
       "      <td>1.029325</td>\n",
       "      <td>MiscVal</td>\n",
       "    </tr>\n",
       "    <tr>\n",
       "      <th>34</th>\n",
       "      <td>1.055061</td>\n",
       "      <td>MoSold</td>\n",
       "    </tr>\n",
       "    <tr>\n",
       "      <th>35</th>\n",
       "      <td>1.056206</td>\n",
       "      <td>YrSold</td>\n",
       "    </tr>\n",
       "  </tbody>\n",
       "</table>\n",
       "</div>"
      ],
      "text/plain": [
       "    VIF Factor       Features\n",
       "0     1.678579     MSSubClass\n",
       "1     1.550509    LotFrontage\n",
       "2     1.258606        LotArea\n",
       "3     3.184199    OverallQual\n",
       "4     1.586181    OverallCond\n",
       "5     5.094617      YearBuilt\n",
       "6     2.422516   YearRemodAdd\n",
       "7     1.410436     MasVnrArea\n",
       "8          inf     BsmtFinSF1\n",
       "9          inf     BsmtFinSF2\n",
       "10         inf      BsmtUnfSF\n",
       "11         inf    TotalBsmtSF\n",
       "12         inf       1stFlrSF\n",
       "13         inf       2ndFlrSF\n",
       "14         inf   LowQualFinSF\n",
       "15         inf      GrLivArea\n",
       "16    2.197736   BsmtFullBath\n",
       "17    1.164117   BsmtHalfBath\n",
       "18    2.951514       FullBath\n",
       "19    2.110857       HalfBath\n",
       "20    2.372205   BedroomAbvGr\n",
       "21    1.658490   KitchenAbvGr\n",
       "22    5.003023   TotRmsAbvGrd\n",
       "23    1.579476     Fireplaces\n",
       "24    3.261961    GarageYrBlt\n",
       "25    5.578335     GarageCars\n",
       "26    5.529931     GarageArea\n",
       "27    1.239912     WoodDeckSF\n",
       "28    1.232406    OpenPorchSF\n",
       "29    1.300037  EnclosedPorch\n",
       "30    1.029787      3SsnPorch\n",
       "31    1.131071    ScreenPorch\n",
       "32    1.153790       PoolArea\n",
       "33    1.029325        MiscVal\n",
       "34    1.055061         MoSold\n",
       "35    1.056206         YrSold"
      ]
     },
     "execution_count": 29,
     "metadata": {},
     "output_type": "execute_result"
    }
   ],
   "source": [
    "from statsmodels.stats.outliers_influence import variance_inflation_factor\n",
    "\n",
    "vif = pd.DataFrame()\n",
    "\n",
    "vif['VIF Factor'] = [variance_inflation_factor(X_train[num_col].values, i) for i in range(X_train[num_col].shape[1])]\n",
    "\n",
    "vif['Features'] = X_train[num_col].columns\n",
    "\n",
    "vif"
   ]
  },
  {
   "cell_type": "markdown",
   "metadata": {},
   "source": [
    "# RandomForestRegressor"
   ]
  },
  {
   "cell_type": "code",
   "execution_count": 30,
   "metadata": {},
   "outputs": [
    {
     "data": {
      "text/plain": [
       "RandomForestRegressor(bootstrap=True, ccp_alpha=0.0, criterion='mse',\n",
       "                      max_depth=None, max_features='auto', max_leaf_nodes=None,\n",
       "                      max_samples=None, min_impurity_decrease=0.0,\n",
       "                      min_impurity_split=None, min_samples_leaf=1,\n",
       "                      min_samples_split=2, min_weight_fraction_leaf=0.0,\n",
       "                      n_estimators=100, n_jobs=None, oob_score=False,\n",
       "                      random_state=None, verbose=0, warm_start=False)"
      ]
     },
     "execution_count": 30,
     "metadata": {},
     "output_type": "execute_result"
    }
   ],
   "source": [
    "from sklearn.ensemble import RandomForestRegressor\n",
    "\n",
    "rand_reg = RandomForestRegressor()\n",
    "\n",
    "rand_reg.fit(X_train_final, y_train)"
   ]
  },
  {
   "cell_type": "code",
   "execution_count": 31,
   "metadata": {},
   "outputs": [
    {
     "data": {
      "text/plain": [
       "array([140406.5 , 332946.69, 116841.5 , 154148.  , 318166.64,  87085.  ,\n",
       "       207033.27, 151974.75,  85934.83, 123346.25, 153840.4 , 122486.5 ,\n",
       "       112930.  , 210872.35, 179043.4 , 131056.25, 194419.4 , 136307.25,\n",
       "       118145.5 , 208972.7 , 166798.45, 223411.12, 177871.7 , 125224.83,\n",
       "       199400.49, 174126.01, 182832.57, 108444.  , 177814.85, 192501.82,\n",
       "       126432.64, 246275.36, 170080.4 , 111354.75, 255403.66, 144475.  ,\n",
       "       137451.05, 203231.58, 311160.24, 109075.32, 124416.  , 236754.45,\n",
       "       119614.58, 352230.66, 136377.7 , 146565.65, 116491.33, 129052.5 ,\n",
       "       383590.57, 143735.3 , 122889.  , 193258.78, 126907.36, 355482.68,\n",
       "       140084.32, 243164.07, 193209.83, 151118.87, 143264.36, 113634.15,\n",
       "        76888.  , 150335.75, 307407.47, 278963.91, 281359.51, 212559.59,\n",
       "       114038.54, 305767.14, 116194.75, 164551.21, 128320.7 , 128132.75,\n",
       "       113991.  ,  91443.5 , 455992.61, 175748.24, 309244.  , 302958.4 ,\n",
       "       135530.33, 125740.  ,  96236.  , 100825.  , 126749.  , 105916.16,\n",
       "       152700.18, 130736.98, 255659.07, 196125.98, 140217.5 , 179395.64,\n",
       "       137100.75, 162515.95, 121898.  , 271842.08, 125089.33, 176064.93,\n",
       "       176589.47, 164933.75, 225777.56, 246220.24, 180819.5 , 211258.95,\n",
       "       278577.38, 138935.4 , 187081.87, 157191.  , 144664.37, 274592.96,\n",
       "       142914.1 , 184585.  ,  62070.  , 127727.37, 133190.25, 136474.67,\n",
       "       218107.67, 110874.49, 112447.25, 112532.83, 152508.42, 290014.01,\n",
       "       148475.55, 142764.82, 178078.85, 182665.5 , 180086.49, 130640.57,\n",
       "       242872.07, 114246.  , 145739.  , 181720.65, 189199.33, 364950.85,\n",
       "       207812.28, 140984.89,  79262.5 , 324233.75, 376289.22, 126649.42,\n",
       "       233103.54, 582851.76, 329952.16, 125580.83, 180561.15, 161822.5 ,\n",
       "       134169.  , 119057.62, 217517.12, 197826.42, 132229.02,  74563.75,\n",
       "       115207.5 , 139648.18, 216296.66, 157021.59, 102820.5 , 138811.85,\n",
       "       143592.56, 151883.3 ,  94872.04, 133059.  , 220461.15, 151847.28,\n",
       "       318444.12, 149695.46, 118053.83, 124056.11, 206825.47, 337283.28,\n",
       "       404143.22, 240434.36, 350092.39, 104155.5 , 127232.89, 168306.87,\n",
       "       332822.71, 150861.39, 135314.  , 206853.99, 120269.84, 167304.33,\n",
       "       163648.5 ,  95352.32, 140706.6 , 137619.54, 258666.14, 154693.87,\n",
       "       291182.17, 199840.56, 197469.07,  88410.5 , 124970.07, 116327.03,\n",
       "       125272.  , 144360.  , 190095.4 , 158099.21, 244667.97, 100045.7 ,\n",
       "       216234.63, 114255.5 , 216385.66, 184048.14, 124984.08, 331657.42,\n",
       "       193732.12, 133290.83, 239783.34, 140385.5 , 148525.5 , 112895.5 ,\n",
       "       233039.61, 143844.72, 122362.5 , 162465.74, 179041.23, 273287.72,\n",
       "       185093.67, 142851.5 , 134145.  , 134598.32, 137734.  , 241020.49,\n",
       "       186979.  , 107537.5 , 230979.96, 143571.5 , 106974.33, 107169.79,\n",
       "       169900.45, 108394.83, 110149.  , 182944.2 , 120743.5 , 138141.5 ,\n",
       "       236125.53, 133304.15, 192944.83, 143915.22, 249705.41, 118459.32,\n",
       "       113441.04, 240304.73, 206686.98, 382422.3 , 184611.  , 126885.2 ,\n",
       "       159911.84, 159074.77, 140350.05, 106208.15, 173348.7 , 171020.7 ,\n",
       "       135555.36,  98480.58, 147744.75, 140406.75, 109260.95, 110619.42,\n",
       "       177794.72, 268816.85, 305988.03, 163326.  , 128920.43, 221165.2 ,\n",
       "       249619.55, 212205.84, 169577.47, 139531.32, 124179.75, 172008.3 ,\n",
       "       385196.55, 213107.96, 236961.27, 112635.68, 109739.53, 139696.1 ,\n",
       "       137026.8 , 310205.89, 190147.34, 150891.84, 210231.56,  97951.5 ,\n",
       "       192535.52, 111192.33, 325658.88, 169722.9 , 226842.66, 120342.5 ,\n",
       "       234846.68, 177609.49, 132969.41, 115942.5 ])"
      ]
     },
     "execution_count": 31,
     "metadata": {},
     "output_type": "execute_result"
    }
   ],
   "source": [
    "rand_reg.predict(X_test_final)"
   ]
  },
  {
   "cell_type": "code",
   "execution_count": 32,
   "metadata": {},
   "outputs": [
    {
     "name": "stdout",
     "output_type": "stream",
     "text": [
      "Training Accurecy:  0.9782886487230624\n",
      "Test Accrecy: 0.8917697343756367\n"
     ]
    }
   ],
   "source": [
    "print('Training Accurecy: ', rand_reg.score(X_train_final,y_train))\n",
    "\n",
    "print('Test Accrecy:', rand_reg.score(X_test_final,y_test))"
   ]
  },
  {
   "cell_type": "markdown",
   "metadata": {},
   "source": [
    "# GridSearchCV"
   ]
  },
  {
   "cell_type": "code",
   "execution_count": 33,
   "metadata": {},
   "outputs": [
    {
     "data": {
      "text/plain": [
       "{'max_depth': 16, 'max_leaf_nodes': 16, 'min_samples_split': 14}"
      ]
     },
     "execution_count": 33,
     "metadata": {},
     "output_type": "execute_result"
    }
   ],
   "source": [
    "from sklearn.model_selection import GridSearchCV\n",
    "\n",
    "hyp_dict = { 'max_depth': [10,16,18],\n",
    "             'min_samples_split' : [8,10,14],\n",
    "             'max_leaf_nodes': [8,13,16]\n",
    "           }\n",
    "gcv = GridSearchCV(estimator=dtr, param_grid=hyp_dict, cv=5)\n",
    "\n",
    "gcv.fit(X_train_final, y_train)\n",
    "\n",
    "gcv.best_params_"
   ]
  },
  {
   "cell_type": "code",
   "execution_count": 34,
   "metadata": {},
   "outputs": [
    {
     "data": {
      "text/plain": [
       "0.6640505867094028"
      ]
     },
     "execution_count": 34,
     "metadata": {},
     "output_type": "execute_result"
    }
   ],
   "source": [
    "gcv.best_score_"
   ]
  },
  {
   "cell_type": "code",
   "execution_count": 35,
   "metadata": {},
   "outputs": [
    {
     "data": {
      "text/plain": [
       "array([145604.20467836, 366304.7       , 145604.20467836, 179729.53107345,\n",
       "       344700.        , 113133.07116105, 201482.63841808, 179729.53107345,\n",
       "       113133.07116105, 146228.76576577, 155780.70967742, 113133.07116105,\n",
       "       113133.07116105, 201482.63841808, 179729.53107345, 145604.20467836,\n",
       "       201482.63841808, 145604.20467836, 145604.20467836, 201482.63841808,\n",
       "       146228.76576577, 231456.21052632, 179729.53107345, 113133.07116105,\n",
       "       201482.63841808, 145604.20467836, 201482.63841808, 113133.07116105,\n",
       "       179729.53107345, 201482.63841808, 113133.07116105, 253941.8       ,\n",
       "       146228.76576577, 113133.07116105, 231456.21052632, 145604.20467836,\n",
       "       146228.76576577, 201482.63841808, 283391.68965517, 113133.07116105,\n",
       "       113133.07116105, 253941.8       , 113133.07116105, 366304.7       ,\n",
       "       145604.20467836, 179729.53107345, 113133.07116105, 113133.07116105,\n",
       "       514206.2       , 146228.76576577, 113133.07116105, 179729.53107345,\n",
       "       113133.07116105, 366304.7       , 113133.07116105, 201482.63841808,\n",
       "       201482.63841808, 145604.20467836, 145604.20467836, 113133.07116105,\n",
       "       113133.07116105, 145604.20467836, 283391.68965517, 344700.        ,\n",
       "       231456.21052632, 179729.53107345, 113133.07116105, 366304.7       ,\n",
       "       145604.20467836, 179729.53107345, 146228.76576577, 113133.07116105,\n",
       "       113133.07116105, 113133.07116105, 514206.2       , 145604.20467836,\n",
       "       283391.68965517, 253941.8       , 145604.20467836, 113133.07116105,\n",
       "       113133.07116105, 113133.07116105, 145604.20467836, 113133.07116105,\n",
       "       179729.53107345, 146228.76576577, 231456.21052632, 201482.63841808,\n",
       "       113133.07116105, 201482.63841808, 146228.76576577, 146228.76576577,\n",
       "       113133.07116105, 253941.8       , 146228.76576577, 145604.20467836,\n",
       "       155780.70967742, 155780.70967742, 201482.63841808, 253941.8       ,\n",
       "       179729.53107345, 201482.63841808, 253941.8       , 155780.70967742,\n",
       "       146228.76576577, 179729.53107345, 145604.20467836, 289413.10344828,\n",
       "       145604.20467836, 146228.76576577, 113133.07116105, 145604.20467836,\n",
       "       145604.20467836, 146228.76576577, 201482.63841808, 113133.07116105,\n",
       "       113133.07116105, 113133.07116105, 179729.53107345, 289413.10344828,\n",
       "       201482.63841808, 113133.07116105, 179729.53107345, 179729.53107345,\n",
       "       179729.53107345, 113133.07116105, 253941.8       , 113133.07116105,\n",
       "       145604.20467836, 201482.63841808, 201482.63841808, 366304.7       ,\n",
       "       201482.63841808, 179729.53107345, 113133.07116105, 344700.        ,\n",
       "       344700.        , 113133.07116105, 201482.63841808, 685000.        ,\n",
       "       366304.7       , 113133.07116105, 179729.53107345, 179729.53107345,\n",
       "       145604.20467836, 113133.07116105, 253941.8       , 201482.63841808,\n",
       "       113133.07116105, 113133.07116105, 113133.07116105, 113133.07116105,\n",
       "       179729.53107345, 146228.76576577, 145604.20467836, 146228.76576577,\n",
       "       145604.20467836, 145604.20467836, 113133.07116105, 113133.07116105,\n",
       "       231456.21052632, 145604.20467836, 289413.10344828, 146228.76576577,\n",
       "       113133.07116105, 146228.76576577, 155780.70967742, 366304.7       ,\n",
       "       387851.25      , 253941.8       , 344700.        , 113133.07116105,\n",
       "       146228.76576577, 179729.53107345, 366304.7       , 146228.76576577,\n",
       "       179729.53107345, 201482.63841808, 113133.07116105, 179729.53107345,\n",
       "       145604.20467836, 113133.07116105, 113133.07116105, 155780.70967742,\n",
       "       283391.68965517, 155780.70967742, 289413.10344828, 201482.63841808,\n",
       "       201482.63841808, 113133.07116105, 113133.07116105, 145604.20467836,\n",
       "       113133.07116105, 145604.20467836, 145604.20467836, 146228.76576577,\n",
       "       289413.10344828, 113133.07116105, 231456.21052632, 113133.07116105,\n",
       "       201482.63841808, 201482.63841808, 113133.07116105, 366304.7       ,\n",
       "       201482.63841808, 145604.20467836, 283391.68965517, 145604.20467836,\n",
       "       179729.53107345, 113133.07116105, 253941.8       , 113133.07116105,\n",
       "       113133.07116105, 179729.53107345, 201482.63841808, 289413.10344828,\n",
       "       201482.63841808, 145604.20467836, 145604.20467836, 146228.76576577,\n",
       "       113133.07116105, 231456.21052632, 146228.76576577, 113133.07116105,\n",
       "       231456.21052632, 145604.20467836, 113133.07116105, 113133.07116105,\n",
       "       179729.53107345, 113133.07116105, 113133.07116105, 179729.53107345,\n",
       "       113133.07116105, 145604.20467836, 231456.21052632, 179729.53107345,\n",
       "       201482.63841808, 113133.07116105, 253941.8       , 113133.07116105,\n",
       "       113133.07116105, 253941.8       , 201482.63841808, 387851.25      ,\n",
       "       179729.53107345, 145604.20467836, 179729.53107345, 145604.20467836,\n",
       "       145604.20467836, 113133.07116105, 146228.76576577, 201482.63841808,\n",
       "       146228.76576577, 113133.07116105, 145604.20467836, 145604.20467836,\n",
       "       113133.07116105, 113133.07116105, 179729.53107345, 283391.68965517,\n",
       "       231456.21052632, 145604.20467836, 113133.07116105, 201482.63841808,\n",
       "       201482.63841808, 179729.53107345, 145604.20467836, 113133.07116105,\n",
       "       145604.20467836, 201482.63841808, 344700.        , 231456.21052632,\n",
       "       201482.63841808, 113133.07116105, 113133.07116105, 145604.20467836,\n",
       "       155780.70967742, 344700.        , 146228.76576577, 146228.76576577,\n",
       "       201482.63841808, 113133.07116105, 201482.63841808, 113133.07116105,\n",
       "       289413.10344828, 179729.53107345, 201482.63841808, 113133.07116105,\n",
       "       201482.63841808, 201482.63841808, 146228.76576577, 113133.07116105])"
      ]
     },
     "execution_count": 35,
     "metadata": {},
     "output_type": "execute_result"
    }
   ],
   "source": [
    "gcv.predict(X_test_final)"
   ]
  },
  {
   "cell_type": "code",
   "execution_count": 36,
   "metadata": {},
   "outputs": [
    {
     "data": {
      "text/plain": [
       "<function sklearn.metrics._scorer._passthrough_scorer(estimator, *args, **kwargs)>"
      ]
     },
     "execution_count": 36,
     "metadata": {},
     "output_type": "execute_result"
    }
   ],
   "source": [
    "gcv.scorer_"
   ]
  },
  {
   "cell_type": "code",
   "execution_count": 37,
   "metadata": {},
   "outputs": [
    {
     "data": {
      "text/plain": [
       "0.8120267392153868"
      ]
     },
     "execution_count": 37,
     "metadata": {},
     "output_type": "execute_result"
    }
   ],
   "source": [
    "gcv.score(X_test_final, y_test)"
   ]
  },
  {
   "cell_type": "markdown",
   "metadata": {},
   "source": [
    "# Hyperparameter Tunning"
   ]
  },
  {
   "cell_type": "code",
   "execution_count": 38,
   "metadata": {},
   "outputs": [
    {
     "name": "stdout",
     "output_type": "stream",
     "text": [
      "Best Score = 0.6783338840871956\n",
      "Where we got best score = {'min_samples_split': 14, 'max_leaf_nodes': 16, 'max_depth': 10}\n"
     ]
    }
   ],
   "source": [
    "from sklearn.model_selection import RandomizedSearchCV\n",
    "\n",
    "hype_dict = { 'max_depth': [10,16,18],\n",
    "             'min_samples_split' : [8,10,14],\n",
    "             'max_leaf_nodes': [8,13,16]\n",
    "           }\n",
    "gcv_ran = RandomizedSearchCV(estimator=dtr, param_distributions=hype_dict, cv=5, n_iter = 24)\n",
    "\n",
    "gcv_ran.fit(X_train_final, y_train)\n",
    "\n",
    "print('Best Score =' , gcv_ran.best_score_)\n",
    "print('Where we got best score =', gcv_ran.best_params_)"
   ]
  },
  {
   "cell_type": "code",
   "execution_count": 39,
   "metadata": {},
   "outputs": [
    {
     "data": {
      "text/plain": [
       "array([145604.20467836, 366304.7       , 145604.20467836, 179729.53107345,\n",
       "       344700.        , 113133.07116105, 201482.63841808, 179729.53107345,\n",
       "       113133.07116105, 146228.76576577, 155780.70967742, 113133.07116105,\n",
       "       113133.07116105, 201482.63841808, 179729.53107345, 145604.20467836,\n",
       "       201482.63841808, 145604.20467836, 145604.20467836, 201482.63841808,\n",
       "       146228.76576577, 231456.21052632, 179729.53107345, 113133.07116105,\n",
       "       201482.63841808, 145604.20467836, 201482.63841808, 113133.07116105,\n",
       "       179729.53107345, 201482.63841808, 113133.07116105, 253941.8       ,\n",
       "       146228.76576577, 113133.07116105, 231456.21052632, 145604.20467836,\n",
       "       146228.76576577, 201482.63841808, 283391.68965517, 113133.07116105,\n",
       "       113133.07116105, 253941.8       , 113133.07116105, 366304.7       ,\n",
       "       145604.20467836, 179729.53107345, 113133.07116105, 113133.07116105,\n",
       "       514206.2       , 146228.76576577, 113133.07116105, 179729.53107345,\n",
       "       113133.07116105, 366304.7       , 113133.07116105, 201482.63841808,\n",
       "       201482.63841808, 145604.20467836, 145604.20467836, 113133.07116105,\n",
       "       113133.07116105, 145604.20467836, 283391.68965517, 344700.        ,\n",
       "       231456.21052632, 179729.53107345, 113133.07116105, 366304.7       ,\n",
       "       145604.20467836, 179729.53107345, 146228.76576577, 113133.07116105,\n",
       "       113133.07116105, 113133.07116105, 514206.2       , 145604.20467836,\n",
       "       283391.68965517, 253941.8       , 145604.20467836, 113133.07116105,\n",
       "       113133.07116105, 113133.07116105, 145604.20467836, 113133.07116105,\n",
       "       179729.53107345, 146228.76576577, 231456.21052632, 201482.63841808,\n",
       "       113133.07116105, 201482.63841808, 146228.76576577, 146228.76576577,\n",
       "       113133.07116105, 253941.8       , 146228.76576577, 145604.20467836,\n",
       "       155780.70967742, 155780.70967742, 201482.63841808, 253941.8       ,\n",
       "       179729.53107345, 201482.63841808, 253941.8       , 155780.70967742,\n",
       "       146228.76576577, 179729.53107345, 145604.20467836, 289413.10344828,\n",
       "       145604.20467836, 146228.76576577, 113133.07116105, 145604.20467836,\n",
       "       145604.20467836, 146228.76576577, 201482.63841808, 113133.07116105,\n",
       "       113133.07116105, 113133.07116105, 179729.53107345, 289413.10344828,\n",
       "       201482.63841808, 113133.07116105, 179729.53107345, 179729.53107345,\n",
       "       179729.53107345, 113133.07116105, 253941.8       , 113133.07116105,\n",
       "       145604.20467836, 201482.63841808, 201482.63841808, 366304.7       ,\n",
       "       201482.63841808, 179729.53107345, 113133.07116105, 344700.        ,\n",
       "       344700.        , 113133.07116105, 201482.63841808, 685000.        ,\n",
       "       366304.7       , 113133.07116105, 179729.53107345, 179729.53107345,\n",
       "       145604.20467836, 113133.07116105, 253941.8       , 201482.63841808,\n",
       "       113133.07116105, 113133.07116105, 113133.07116105, 113133.07116105,\n",
       "       179729.53107345, 146228.76576577, 145604.20467836, 146228.76576577,\n",
       "       145604.20467836, 145604.20467836, 113133.07116105, 113133.07116105,\n",
       "       231456.21052632, 145604.20467836, 289413.10344828, 146228.76576577,\n",
       "       113133.07116105, 146228.76576577, 155780.70967742, 366304.7       ,\n",
       "       387851.25      , 253941.8       , 344700.        , 113133.07116105,\n",
       "       146228.76576577, 179729.53107345, 366304.7       , 146228.76576577,\n",
       "       179729.53107345, 201482.63841808, 113133.07116105, 179729.53107345,\n",
       "       145604.20467836, 113133.07116105, 113133.07116105, 155780.70967742,\n",
       "       283391.68965517, 155780.70967742, 289413.10344828, 201482.63841808,\n",
       "       201482.63841808, 113133.07116105, 113133.07116105, 145604.20467836,\n",
       "       113133.07116105, 145604.20467836, 145604.20467836, 146228.76576577,\n",
       "       289413.10344828, 113133.07116105, 231456.21052632, 113133.07116105,\n",
       "       201482.63841808, 201482.63841808, 113133.07116105, 366304.7       ,\n",
       "       201482.63841808, 145604.20467836, 283391.68965517, 145604.20467836,\n",
       "       179729.53107345, 113133.07116105, 253941.8       , 113133.07116105,\n",
       "       113133.07116105, 179729.53107345, 201482.63841808, 289413.10344828,\n",
       "       201482.63841808, 145604.20467836, 145604.20467836, 146228.76576577,\n",
       "       113133.07116105, 231456.21052632, 146228.76576577, 113133.07116105,\n",
       "       231456.21052632, 145604.20467836, 113133.07116105, 113133.07116105,\n",
       "       179729.53107345, 113133.07116105, 113133.07116105, 179729.53107345,\n",
       "       113133.07116105, 145604.20467836, 231456.21052632, 179729.53107345,\n",
       "       201482.63841808, 113133.07116105, 253941.8       , 113133.07116105,\n",
       "       113133.07116105, 253941.8       , 201482.63841808, 387851.25      ,\n",
       "       179729.53107345, 145604.20467836, 179729.53107345, 145604.20467836,\n",
       "       145604.20467836, 113133.07116105, 146228.76576577, 201482.63841808,\n",
       "       146228.76576577, 113133.07116105, 145604.20467836, 145604.20467836,\n",
       "       113133.07116105, 113133.07116105, 179729.53107345, 283391.68965517,\n",
       "       231456.21052632, 145604.20467836, 113133.07116105, 201482.63841808,\n",
       "       201482.63841808, 179729.53107345, 145604.20467836, 113133.07116105,\n",
       "       145604.20467836, 201482.63841808, 344700.        , 231456.21052632,\n",
       "       201482.63841808, 113133.07116105, 113133.07116105, 145604.20467836,\n",
       "       155780.70967742, 344700.        , 146228.76576577, 146228.76576577,\n",
       "       201482.63841808, 113133.07116105, 201482.63841808, 113133.07116105,\n",
       "       289413.10344828, 179729.53107345, 201482.63841808, 113133.07116105,\n",
       "       201482.63841808, 201482.63841808, 146228.76576577, 113133.07116105])"
      ]
     },
     "execution_count": 39,
     "metadata": {},
     "output_type": "execute_result"
    }
   ],
   "source": [
    "gcv_prediction = gcv_ran.predict(X_test_final)\n",
    "gcv_prediction"
   ]
  },
  {
   "cell_type": "code",
   "execution_count": null,
   "metadata": {},
   "outputs": [],
   "source": []
  }
 ],
 "metadata": {
  "kernelspec": {
   "display_name": "Python 3",
   "language": "python",
   "name": "python3"
  },
  "language_info": {
   "codemirror_mode": {
    "name": "ipython",
    "version": 3
   },
   "file_extension": ".py",
   "mimetype": "text/x-python",
   "name": "python",
   "nbconvert_exporter": "python",
   "pygments_lexer": "ipython3",
   "version": "3.7.6"
  }
 },
 "nbformat": 4,
 "nbformat_minor": 4
}
